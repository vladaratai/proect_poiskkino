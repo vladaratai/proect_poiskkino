{
 "cells": [
  {
   "cell_type": "code",
   "execution_count": 1,
   "metadata": {},
   "outputs": [
    {
     "name": "stdout",
     "output_type": "stream",
     "text": [
      "Requirement already satisfied: psycopg2 in c:\\anaconda\\anaconda3\\lib\\site-packages (2.9.4)\n",
      "Note: you may need to restart the kernel to use updated packages.\n"
     ]
    }
   ],
   "source": [
    "%pip install psycopg2"
   ]
  },
  {
   "cell_type": "code",
   "execution_count": 2,
   "metadata": {},
   "outputs": [
    {
     "name": "stdout",
     "output_type": "stream",
     "text": [
      "0 (5, 'postgres', 10, 6, 'c', False, True, -1, '717', '1', 1663, 'Russian_Russia.1251', 'Russian_Russia.1251', None, None, None)\n",
      "1 (16398, 'HOMEWORK', 10, 6, 'c', False, True, -1, '717', '1', 1663, 'Russian_Russia.1251', 'Russian_Russia.1251', None, None, None)\n",
      "2 (1, 'template1', 10, 6, 'c', True, True, -1, '717', '1', 1663, 'Russian_Russia.1251', 'Russian_Russia.1251', None, None, '{=c/postgres,postgres=CTc/postgres}')\n",
      "3 (4, 'template0', 10, 6, 'c', True, False, -1, '717', '1', 1663, 'Russian_Russia.1251', 'Russian_Russia.1251', None, None, '{=c/postgres,postgres=CTc/postgres}')\n",
      "4 (24609, 'project_poiskkino', 10, 6, 'c', False, True, -1, '717', '1', 1663, 'Russian_Russia.1251', 'Russian_Russia.1251', None, None, '{=Tc/postgres,postgres=CTc/postgres,projectuser=CTc/postgres}')\n"
     ]
    }
   ],
   "source": [
    "import psycopg2 as pg_driver\n",
    "\n",
    "db = pg_driver.connect(\n",
    "    database=\"postgres\", \n",
    "    user='postgres',\n",
    "    password='hfnfneq2', \n",
    "    host='localhost', \n",
    "    port='5432'\n",
    ")\n",
    "\n",
    "\n",
    "cur = db.cursor()\n",
    "cur.execute(\"select * from pg_database\")\n",
    "rs = cur.fetchall()\n",
    "for row, values in enumerate(rs):\n",
    "    print(row, values)"
   ]
  },
  {
   "cell_type": "code",
   "execution_count": 3,
   "metadata": {},
   "outputs": [
    {
     "name": "stdout",
     "output_type": "stream",
     "text": [
      "CREATE DATABASE project_poiskkino;\n",
      "CREATE USER projectuser with encrypted password 'hfnfneq2';\n",
      "GRANT ALL PRIVILEGES ON DATABASE project_poiskkino TO projectuser;\n"
     ]
    }
   ],
   "source": [
    "import psycopg2 as pg_driver\n",
    "\n",
    "db = pg_driver.connect(user=\"postgres\",\n",
    "                       password=\"hfnfneq2\",\n",
    "                       host='localhost',\n",
    "                       port='5432')\n",
    "\n",
    "\n",
    "def execute_queries(db, sql_commands):\n",
    "    db.autocommit = True\n",
    "    with db.cursor() as cursor:\n",
    "        for sql_command in sql_commands:\n",
    "            print(sql_command)\n",
    "            cursor.execute(sql_command)\n",
    "\n",
    "sql_commands = [\"CREATE DATABASE project_poiskkino;\",\n",
    "                \"CREATE USER projectuser with encrypted password 'hfnfneq2';\",\n",
    "                \"GRANT ALL PRIVILEGES ON DATABASE project_poiskkino TO projectuser;\"]\n",
    "\n",
    "execute_queries(db, sql_commands)"
   ]
  },
  {
   "cell_type": "code",
   "execution_count": 16,
   "metadata": {},
   "outputs": [
    {
     "name": "stdout",
     "output_type": "stream",
     "text": [
      "DROP TABLE IF EXISTS users;\n",
      "DROP TABLE IF EXISTS pictures;\n",
      "DROP TABLE IF EXISTS award;\n",
      "DROP TABLE IF EXISTS genre;\n",
      "DROP TABLE IF EXISTS form;\n",
      "DROP TABLE IF EXISTS production;\n",
      "DROP TABLE IF EXISTS rating;\n",
      "DROP TABLE IF EXISTS age_limit;\n",
      "CREATE TABLE users (\n",
      "                         user_id    INT       NOT NULL,\n",
      "                         name    TEXT       NOT NULL,\n",
      "                         email   TEXT        NOT NULL,\n",
      "                         nickname   TEXT        NOT NULL,\n",
      "                         password   TEXT        NOT NULL,\n",
      "                         age   INT        NOT NULL,\n",
      "                         gender   TEXT        NOT NULL,\n",
      "                         favs   TEXT        NOT NULL\n",
      "                         \n",
      "                         \n",
      "                );\n",
      "                \n",
      "CREATE TABLE pictures (\n",
      "                         name_id    INT       NOT NULL,\n",
      "                         pic    TEXT       NOT NULL\n",
      "                         \n",
      "                  );\n",
      "                \n",
      "CREATE TABLE award (\n",
      "                         name_id    INT       NOT NULL,\n",
      "                         aw    TEXT       NOT NULL,\n",
      "                         nomination    TEXT       NOT NULL\n",
      "                );\n",
      "                \n",
      "CREATE TABLE genre (\n",
      "                         name_id    INT       NOT NULL,\n",
      "                         g    TEXT       NOT NULL\n",
      "                         \n",
      "                );\n",
      "                \n",
      "CREATE TABLE form (\n",
      "                         name_id    INT       NOT NULL,\n",
      "                         f    TEXT       NOT NULL\n",
      "                         \n",
      "                );\n",
      "                \n",
      "CREATE TABLE production (\n",
      "                         name_id    INT       NOT NULL,\n",
      "                         country    TEXT       NOT NULL,\n",
      "                         year    INT       NOT NULL,\n",
      "                         company    TEXT       NOT NULL\n",
      "                        \n",
      "                );\n",
      "                \n",
      "CREATE TABLE rating (\n",
      "                         name_id    INT       NOT NULL,\n",
      "                         rat    FLOAT       NOT NULL,\n",
      "                         genre    TEXT       NOT NULL\n",
      "                         \n",
      "                );\n",
      "                \n",
      "CREATE TABLE age_limit (\n",
      "                         name_id    INT       NOT NULL,\n",
      "                         age    INT       NOT NULL\n",
      "                         \n",
      "                );\n",
      "                \n"
     ]
    }
   ],
   "source": [
    "import psycopg2 as pg_driver\n",
    "\n",
    "db = pg_driver.connect(\n",
    "                        database=\"project_poiskkino\", \n",
    "                        user='postgres',\n",
    "                        password='hfnfneq2', \n",
    "                        host='localhost', \n",
    "                        port='5432'\n",
    "                    )\n",
    "\n",
    "\n",
    "\n",
    "def execute_queries(db, sql_commands):\n",
    "    db.autocommit = True\n",
    "    with db.cursor() as cursor:\n",
    "        for sql_command in sql_commands:\n",
    "            print(sql_command)\n",
    "            cursor.execute(sql_command)\n",
    "\n",
    "\n",
    "sql_commands = [\"DROP TABLE IF EXISTS users;\",\n",
    "                \"DROP TABLE IF EXISTS pictures;\",\n",
    "                \"DROP TABLE IF EXISTS award;\",\n",
    "                \"DROP TABLE IF EXISTS genre;\",\n",
    "                \"DROP TABLE IF EXISTS form;\",\n",
    "                \"DROP TABLE IF EXISTS production;\",\n",
    "                \"DROP TABLE IF EXISTS rating;\",\n",
    "                \"DROP TABLE IF EXISTS age_limit;\",\n",
    "                \"\"\"CREATE TABLE users (\n",
    "                         user_id    INT       NOT NULL,\n",
    "                         name    TEXT       NOT NULL,\n",
    "                         email   TEXT        NOT NULL,\n",
    "                         nickname   TEXT        NOT NULL,\n",
    "                         password   TEXT        NOT NULL,\n",
    "                         age   INT        NOT NULL,\n",
    "                         gender   TEXT        NOT NULL,\n",
    "                         favs   TEXT        NOT NULL\n",
    "                         \n",
    "                         \n",
    "                );\n",
    "                \"\"\",\n",
    "                 \"\"\"CREATE TABLE pictures (\n",
    "                         name_id    INT       NOT NULL,\n",
    "                         pic    TEXT       NOT NULL\n",
    "                         \n",
    "                  );\n",
    "                \"\"\",\n",
    "                \"\"\"CREATE TABLE award (\n",
    "                         name_id    INT       NOT NULL,\n",
    "                         aw    TEXT       NOT NULL,\n",
    "                         nomination    TEXT       NOT NULL\n",
    "                );\n",
    "                \"\"\",\n",
    "                \"\"\"CREATE TABLE genre (\n",
    "                         name_id    INT       NOT NULL,\n",
    "                         g    TEXT       NOT NULL\n",
    "                         \n",
    "                );\n",
    "                \"\"\",\n",
    "                \"\"\"CREATE TABLE form (\n",
    "                         name_id    INT       NOT NULL,\n",
    "                         f    TEXT       NOT NULL\n",
    "                         \n",
    "                );\n",
    "                \"\"\",\n",
    "                \"\"\"CREATE TABLE production (\n",
    "                         name_id    INT       NOT NULL,\n",
    "                         country    TEXT       NOT NULL,\n",
    "                         year    INT       NOT NULL,\n",
    "                         company    TEXT       NOT NULL\n",
    "                        \n",
    "                );\n",
    "                \"\"\",\n",
    "                \"\"\"CREATE TABLE rating (\n",
    "                         name_id    INT       NOT NULL,\n",
    "                         rat    FLOAT       NOT NULL,\n",
    "                         genre    TEXT       NOT NULL\n",
    "                         \n",
    "                );\n",
    "                \"\"\",\n",
    "                \"\"\"CREATE TABLE age_limit (\n",
    "                         name_id    INT       NOT NULL,\n",
    "                         age    INT       NOT NULL\n",
    "                         \n",
    "                );\n",
    "                \"\"\"]\n",
    "\n",
    "\n",
    "execute_queries(db, sql_commands)"
   ]
  },
  {
   "cell_type": "code",
   "execution_count": 17,
   "metadata": {},
   "outputs": [
    {
     "name": "stdout",
     "output_type": "stream",
     "text": [
      "[Record(count=0)]\n"
     ]
    }
   ],
   "source": [
    "import psycopg2\n",
    "from psycopg2 import Error\n",
    "from psycopg2.extras import NamedTupleCursor\n",
    "\n",
    "def execute_query(query, fetch_result=False):\n",
    "    try:\n",
    "        connection = pg_driver.connect(\n",
    "                        database=\"project_poiskkino\", \n",
    "                        user='postgres',\n",
    "                        password='hfnfneq2', \n",
    "                        host='localhost', \n",
    "                        port='5432'\n",
    "                    );\n",
    "        \n",
    "        connection.autocommit = True\n",
    "        cursor = connection.cursor(cursor_factory=NamedTupleCursor)\n",
    "        cursor.execute(query)\n",
    "        if fetch_result:\n",
    "            return cursor.fetchall()\n",
    "    except (Exception, Error) as error:\n",
    "        print(\"Error while connecting to PostgreSQL\", error)\n",
    "    finally:\n",
    "        if (connection):\n",
    "            cursor.close()\n",
    "            connection.close()\n",
    "row_count_hist = execute_query(\"select count(*) from users\", fetch_result=True)\n",
    "\n",
    "print(row_count_hist)"
   ]
  },
  {
   "cell_type": "code",
   "execution_count": 18,
   "metadata": {},
   "outputs": [],
   "source": [
    "query = \"\"\" INSERT INTO users (user_id, name, email, nickname, password, age, gender, favs) \n",
    "            VALUES \n",
    "                 (1, 'Elena', 'elena@gmail.com', 'lena2003', '123456', 21, 1, 'drama'),\n",
    "                 (2, 'Vlada', 'vlada@gmail.com', 'vladusik2002', '111111', 20, 1, 'fantasy'),\n",
    "                 (3, 'Masha', 'mary@gmail.com', 'maryqueen', '222222', 23, 2, 'cartoon'),\n",
    "                 (4, 'Dmitriy', 'dima@gmail.com', 'dimmm', '666666', 21, 2, 'drama'),\n",
    "                 (5, 'Ivan', 'vanya@gmail.com', 'ione', '654321', 30, 1, 'fantasy')\n",
    "            \n",
    "        \"\"\"\n",
    "execute_query(query)\n",
    "\n",
    "query = \"\"\" INSERT INTO pictures (name_id, pic) \n",
    "            VALUES \n",
    "                 (1, 'The Green Mile'),\n",
    "                 (2, 'The Shawshank Redemption'),\n",
    "                 (3, 'Coco'),\n",
    "                 (4, 'The Lion King'),\n",
    "                 (5, 'The Lord of the Rings'),\n",
    "                 (6, 'Intouchables'),\n",
    "                 (7, 'Shrek'),\n",
    "                 (8, 'Breaking Bad'),\n",
    "                 (9, 'Game of Thrones'),\n",
    "                 (10, 'Rick and Morty')\n",
    "                 \n",
    "        \"\"\"\n",
    "execute_query(query)\n",
    "\n",
    "\n",
    "query = \"\"\" INSERT INTO award (name_id, aw, nomination) \n",
    "            VALUES \n",
    "                 (1, 'Oscar', 'the best film'),\n",
    "                 (2, 'Oscar', 'the best film'),\n",
    "                 (3, 'Oscar', 'the best song'),\n",
    "                 (4, 'Golden Globus', 'the best film'),\n",
    "                 (5, 'Oscar', 'the best song'),\n",
    "                 (6, 'Golden Globus', 'the best film'),\n",
    "                 (7, 'Oscar', 'the best film'),\n",
    "                 (8, 'Golden Globus', 'the best film'),\n",
    "                 (9, 'SAG Awards', 'the best film'),\n",
    "                 (10, 'SAG Awards', 'the best song')\n",
    "                 \n",
    "        \"\"\"\n",
    "execute_query(query)\n",
    "\n",
    "query = \"\"\" INSERT INTO genre (name_id, g) \n",
    "            VALUES \n",
    "                 (1, 'drama'),\n",
    "                 (2, 'drama'),\n",
    "                 (3, 'cartoon'),\n",
    "                 (4, 'cartoon'),\n",
    "                 (5, 'fantasy'),\n",
    "                 (6, 'drama'),\n",
    "                 (7, 'catoon'),\n",
    "                 (8, 'drama'),\n",
    "                 (9, 'fantasy'),\n",
    "                 (10, 'cartoon')\n",
    "                 \n",
    "        \"\"\"\n",
    "execute_query(query)\n",
    "\n",
    "query = \"\"\" INSERT INTO form (name_id, f) \n",
    "            VALUES \n",
    "                 (1, 'film'),\n",
    "                 (2, 'film'),\n",
    "                 (3, 'film'),\n",
    "                 (4, 'film'),\n",
    "                 (5, 'film'),\n",
    "                 (6, 'film'),\n",
    "                 (7, 'film'),\n",
    "                 (8, 'serial'),\n",
    "                 (9, 'serial'),\n",
    "                 (10, 'serial')\n",
    "                 \n",
    "        \"\"\"\n",
    "execute_query(query)\n",
    "\n",
    "query = \"\"\" INSERT INTO production (name_id, country, year, company) \n",
    "            VALUES \n",
    "                 (1, 'USA', 1999, 'Castle Rock Entertainment'),\n",
    "                 (2, 'USA', 1994, 'Castle Rock Entertainment'),\n",
    "                 (3, 'USA', 2017, 'Pixar'),\n",
    "                 (4, 'USA', 1994, 'Walt Disney Pictures'),\n",
    "                 (5, 'New Zealand', 2001, 'WingNut Films'),\n",
    "                 (6, 'France', 2011, 'Gaumont'),\n",
    "                 (7, 'USA', 2001, 'DreamWorks Animation'),\n",
    "                 (8, 'USA', 2008, 'Sony Pictures Television'),\n",
    "                 (9, 'USA', 2011, 'Warner Bros. Television Studios'),\n",
    "                 (10, 'USA', 2013, 'Warner Bros. Television Studios')\n",
    "                 \n",
    "        \"\"\"\n",
    "execute_query(query)\n",
    "\n",
    "query = \"\"\" INSERT INTO rating (name_id, rat, genre) \n",
    "            VALUES \n",
    "                 (1, 9.2, 'drama'),\n",
    "                 (2, 9.0, 'drama'),\n",
    "                 (3, 8.8, 'cartoon'),\n",
    "                 (4, 8.8, 'cartoon'),\n",
    "                 (5, 8.9, 'fantasy'),\n",
    "                 (6, 8.8, 'drama'),\n",
    "                 (7, 8.7, 'cartoon'),\n",
    "                 (8, 9.0, 'drama'),\n",
    "                 (9, 8.9, 'fantasy'),\n",
    "                 (10, 8.8, 'cartoon')\n",
    "                 \n",
    "        \"\"\"\n",
    "execute_query(query)\n",
    "\n",
    "query = \"\"\" INSERT INTO age_limit (name_id, age) \n",
    "            VALUES \n",
    "                 (1, 16),\n",
    "                 (2, 16),\n",
    "                 (3, 12),\n",
    "                 (4, 0),\n",
    "                 (5, 12),\n",
    "                 (6, 16),\n",
    "                 (7, 12),\n",
    "                 (8, 18),\n",
    "                 (9, 18),\n",
    "                 (10, 18)\n",
    "                 \n",
    "        \"\"\"\n",
    "execute_query(query)\n"
   ]
  },
  {
   "cell_type": "code",
   "execution_count": 52,
   "metadata": {},
   "outputs": [
    {
     "name": "stdout",
     "output_type": "stream",
     "text": [
      "0 Record(pic='Coco')\n"
     ]
    }
   ],
   "source": [
    "#Вывести мультфильм с наградой \"Оскар\"\n",
    "\n",
    "query = \"\"\"SELECT pic FROM pictures\n",
    "           LEFT JOIN award ON award.name_id = pictures.name_id\n",
    "           JOIN genre ON genre.name_id = pictures.name_id\n",
    "           WHERE (g = 'cartoon' and aw = 'Oscar')\n",
    "                \n",
    "        \"\"\"\n",
    "all_rows = execute_query(query, fetch_result=True)\n",
    "for row, value in enumerate(all_rows):\n",
    "    print(row, value)"
   ]
  },
  {
   "cell_type": "code",
   "execution_count": 33,
   "metadata": {},
   "outputs": [
    {
     "name": "stdout",
     "output_type": "stream",
     "text": [
      "0 Record(pic='Breaking Bad')\n",
      "1 Record(pic='Game of Thrones')\n",
      "2 Record(pic='Rick and Morty')\n"
     ]
    }
   ],
   "source": [
    "#Вывести фильмы 18+\n",
    "\n",
    "query = \"\"\"SELECT pic FROM pictures\n",
    "           LEFT JOIN age_limit ON age_limit.name_id = pictures.name_id\n",
    "           WHERE age = 18\n",
    "                \n",
    "        \"\"\"\n",
    "all_rows = execute_query(query, fetch_result=True)\n",
    "for row, value in enumerate(all_rows):\n",
    "    print(row, value)"
   ]
  },
  {
   "cell_type": "code",
   "execution_count": 51,
   "metadata": {},
   "outputs": [
    {
     "name": "stdout",
     "output_type": "stream",
     "text": [
      "0 Record(pic='Game of Thrones')\n"
     ]
    }
   ],
   "source": [
    "#Вывести сериалы жанра \"фэнтези\"\n",
    "\n",
    "query = \"\"\"SELECT pic FROM pictures\n",
    "           LEFT JOIN form ON form.name_id = pictures.name_id\n",
    "           JOIN genre ON genre.name_id = pictures.name_id\n",
    "           WHERE (g = 'fantasy' and f = 'serial')\n",
    "                \n",
    "        \"\"\"\n",
    "all_rows = execute_query(query, fetch_result=True)\n",
    "for row, value in enumerate(all_rows):\n",
    "    print(row, value)"
   ]
  },
  {
   "cell_type": "code",
   "execution_count": 55,
   "metadata": {},
   "outputs": [
    {
     "name": "stdout",
     "output_type": "stream",
     "text": [
      "0 Record(pic='Coco')\n",
      "1 Record(pic='The Lord of the Rings')\n",
      "2 Record(pic='Rick and Morty')\n"
     ]
    }
   ],
   "source": [
    "#вывести фильмы с наградой за лучшую музыку к фильму\n",
    "\n",
    "query = \"\"\" SELECT pic from pictures\n",
    "            JOIN award ON pictures.name_id = award.name_id\n",
    "            WHERE nomination = 'the best song'\n",
    "        \"\"\"\n",
    "execute_query(query)\n",
    "result = execute_query(query, fetch_result=True)\n",
    "for row, value in enumerate(result):\n",
    "    print(row, value)"
   ]
  },
  {
   "cell_type": "code",
   "execution_count": 77,
   "metadata": {},
   "outputs": [
    {
     "name": "stdout",
     "output_type": "stream",
     "text": [
      "0 Record(avg=Decimal('23.0000000000000000'))\n"
     ]
    }
   ],
   "source": [
    "#вывести средний возраст пользователя\n",
    "\n",
    "query = \"\"\" \n",
    "            SELECT AVG(age)\n",
    "            FROM users\n",
    "        \"\"\"\n",
    "execute_query(query)\n",
    "result = execute_query(query, fetch_result=True)\n",
    "for row, value in enumerate(result):\n",
    "    print(row, value)"
   ]
  },
  {
   "cell_type": "code",
   "execution_count": 76,
   "metadata": {},
   "outputs": [
    {
     "name": "stdout",
     "output_type": "stream",
     "text": [
      "0 Record(pic='Coco')\n"
     ]
    }
   ],
   "source": [
    "#Вывести самый новый фильм\n",
    "\n",
    "query = \"\"\" SELECT pic \n",
    "            FROM pictures\n",
    "            RIGHT JOIN production ON production.name_id = pictures.name_id\n",
    "            ORDER BY year DESC\n",
    "            LIMIT 1\n",
    "        \"\"\"\n",
    "execute_query(query)\n",
    "result = execute_query(query, fetch_result=True)\n",
    "for row, value in enumerate(result):\n",
    "    print(row, value)"
   ]
  },
  {
   "cell_type": "code",
   "execution_count": 69,
   "metadata": {},
   "outputs": [
    {
     "name": "stdout",
     "output_type": "stream",
     "text": [
      "[Record(pic='Shrek')]\n"
     ]
    }
   ],
   "source": [
    "#Вывести фильм с самым низким рейтингом\n",
    "\n",
    "query = \"\"\" SELECT pic FROM pictures\n",
    "            RIGHT JOIN rating ON rating.name_id = pictures.name_id\n",
    "            ORDER by rat ASC\n",
    "            LIMIT 1   \n",
    "        \"\"\"\n",
    "execute_query(query)\n",
    "result = execute_query(query, fetch_result=True)\n",
    "print(result)"
   ]
  },
  {
   "cell_type": "code",
   "execution_count": 85,
   "metadata": {
    "scrolled": true
   },
   "outputs": [
    {
     "name": "stdout",
     "output_type": "stream",
     "text": [
      "[Record(rat=8.9), Record(rat=9.0), Record(rat=8.8)]\n"
     ]
    }
   ],
   "source": [
    "#Вывести совпадающие рейтинги\n",
    "\n",
    "query = \"\"\" SELECT rat FROM rating\n",
    "            RIGHT JOIN pictures ON rating.name_id = pictures.name_id\n",
    "            GROUP BY rat \n",
    "            HAVING count(*) >= 2\n",
    "        \"\"\"\n",
    "execute_query(query)\n",
    "result = execute_query(query, fetch_result=True)\n",
    "print(result)"
   ]
  },
  {
   "cell_type": "code",
   "execution_count": 88,
   "metadata": {},
   "outputs": [
    {
     "name": "stdout",
     "output_type": "stream",
     "text": [
      "[Record(company='Warner Bros. Television Studios'), Record(company='Castle Rock Entertainment')]\n"
     ]
    }
   ],
   "source": [
    "#Вывести компании, выпустившие по меньшей мере два фильма\n",
    "\n",
    "query = \"\"\" SELECT company\n",
    "            FROM production\n",
    "            FULL JOIN pictures ON production.name_id = pictures.name_id\n",
    "            GROUP BY company\n",
    "            HAVING count(pic) >= 2\n",
    "        \"\"\"\n",
    "execute_query(query)\n",
    "result = execute_query(query, fetch_result=True)\n",
    "print(result)"
   ]
  },
  {
   "cell_type": "code",
   "execution_count": 89,
   "metadata": {},
   "outputs": [
    {
     "name": "stdout",
     "output_type": "stream",
     "text": [
      "0 Record(g='cartoon')\n"
     ]
    }
   ],
   "source": [
    "#К какому жанру относится фильм ... (например, \"Король Лев\")?\n",
    "\n",
    "query = \"\"\"SELECT g FROM genre\n",
    "           LEFT JOIN pictures ON pictures.name_id = genre.name_id\n",
    "           WHERE pic = 'The Lion King'     \n",
    "        \"\"\"\n",
    "all_rows = execute_query(query, fetch_result=True)\n",
    "for row, value in enumerate(all_rows):\n",
    "    print(row, value)"
   ]
  },
  {
   "cell_type": "code",
   "execution_count": 90,
   "metadata": {},
   "outputs": [
    {
     "name": "stdout",
     "output_type": "stream",
     "text": [
      "0 Record(pic='The Green Mile')\n",
      "1 Record(pic='The Shawshank Redemption')\n",
      "2 Record(pic='Coco')\n",
      "3 Record(pic='The Lord of the Rings')\n",
      "4 Record(pic='Shrek')\n"
     ]
    }
   ],
   "source": [
    "#Вывести картины с наградой \"Оскар\"\n",
    "\n",
    "query = \"\"\"SELECT pic FROM pictures\n",
    "           LEFT JOIN award ON award.name_id = pictures.name_id\n",
    "           WHERE aw = 'Oscar'\n",
    "                \n",
    "        \"\"\"\n",
    "all_rows = execute_query(query, fetch_result=True)\n",
    "for row, value in enumerate(all_rows):\n",
    "    print(row, value)"
   ]
  },
  {
   "cell_type": "code",
   "execution_count": 91,
   "metadata": {},
   "outputs": [
    {
     "name": "stdout",
     "output_type": "stream",
     "text": [
      "0 Record(pic='Intouchables')\n"
     ]
    }
   ],
   "source": [
    "#Вывести фильмы Франции\n",
    "\n",
    "query = \"\"\" SELECT pic FROM pictures\n",
    "            FULL JOIN production ON production.name_id = pictures.name_id\n",
    "            WHERE country = 'France'\n",
    "        \"\"\"\n",
    "execute_query(query)\n",
    "result = execute_query(query, fetch_result=True)\n",
    "for row, value in enumerate(result):\n",
    "    print(row, value)"
   ]
  },
  {
   "cell_type": "code",
   "execution_count": 7,
   "metadata": {},
   "outputs": [
    {
     "name": "stdout",
     "output_type": "stream",
     "text": [
      "0 Record(age=12)\n"
     ]
    }
   ],
   "source": [
    "#Узнать, какое возрастное ограничение у мультфильма \"Шрек\"?\n",
    "\n",
    "query = \"\"\" SELECT age FROM age_limit\n",
    "            LEFT JOIN pictures ON pictures.name_id = age_limit.name_id\n",
    "            WHERE pic = 'Shrek'\n",
    "        \"\"\"\n",
    "execute_query(query)\n",
    "result = execute_query(query, fetch_result=True)\n",
    "for row, value in enumerate(result):\n",
    "    print(row, value)"
   ]
  },
  {
   "cell_type": "code",
   "execution_count": 8,
   "metadata": {},
   "outputs": [
    {
     "name": "stdout",
     "output_type": "stream",
     "text": [
      "0 Record(f='film')\n",
      "1 Record(f='serial')\n"
     ]
    }
   ],
   "source": [
    "#Узнать, какие существуют форматы картин?\n",
    "\n",
    "query = \"\"\" SELECT DISTINCT f \n",
    "            FROM form\n",
    "        \"\"\"\n",
    "execute_query(query)\n",
    "result = execute_query(query, fetch_result=True)\n",
    "for row, value in enumerate(result):\n",
    "    print(row, value)"
   ]
  },
  {
   "cell_type": "code",
   "execution_count": 19,
   "metadata": {},
   "outputs": [
    {
     "name": "stdout",
     "output_type": "stream",
     "text": [
      "0 Record(nomination='the best song')\n",
      "1 Record(nomination='the best film')\n"
     ]
    }
   ],
   "source": [
    "#Узнать, какие существуют номинации?\n",
    "\n",
    "query = \"\"\" SELECT DISTINCT nomination \n",
    "            FROM award\n",
    "        \"\"\"\n",
    "execute_query(query)\n",
    "result = execute_query(query, fetch_result=True)\n",
    "for row, value in enumerate(result):\n",
    "    print(row, value)"
   ]
  }
 ],
 "metadata": {
  "kernelspec": {
   "display_name": "Python 3",
   "language": "python",
   "name": "python3"
  },
  "language_info": {
   "codemirror_mode": {
    "name": "ipython",
    "version": 3
   },
   "file_extension": ".py",
   "mimetype": "text/x-python",
   "name": "python",
   "nbconvert_exporter": "python",
   "pygments_lexer": "ipython3",
   "version": "3.8.5"
  }
 },
 "nbformat": 4,
 "nbformat_minor": 4
}
